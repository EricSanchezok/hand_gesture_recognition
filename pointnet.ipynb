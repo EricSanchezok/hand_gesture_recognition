{
 "cells": [
  {
   "cell_type": "code",
   "execution_count": 9,
   "metadata": {},
   "outputs": [],
   "source": [
    "import torch\n",
    "import torch.nn as nn\n",
    "import pandas as pd\n",
    "import torch.nn.functional as F\n",
    "\n",
    "import numpy as np\n",
    "\n",
    "import data_process as dp\n",
    "\n",
    "from pointnet_model import get_model"
   ]
  },
  {
   "cell_type": "code",
   "execution_count": 10,
   "metadata": {},
   "outputs": [
    {
     "name": "stdout",
     "output_type": "stream",
     "text": [
      "1    1014\n",
      "0    1013\n",
      "3    1010\n",
      "2    1009\n",
      "Name: 3, dtype: int64\n"
     ]
    }
   ],
   "source": [
    "# 读取训练数据\n",
    "train_data = pd.read_csv('world_data.csv')\n",
    "\n",
    "# 查看最后一列\n",
    "print(train_data.iloc[:, -1].value_counts())"
   ]
  },
  {
   "cell_type": "code",
   "execution_count": 11,
   "metadata": {},
   "outputs": [
    {
     "name": "stdout",
     "output_type": "stream",
     "text": [
      "(3237, 64) (809, 64)\n"
     ]
    }
   ],
   "source": [
    "#随机抽样30%的数据作为测试集\n",
    "test_data = train_data.sample(frac=0.2)\n",
    "train_data = train_data.drop(test_data.index)\n",
    "\n",
    "print(train_data.shape, test_data.shape)"
   ]
  },
  {
   "cell_type": "code",
   "execution_count": 12,
   "metadata": {},
   "outputs": [
    {
     "name": "stdout",
     "output_type": "stream",
     "text": [
      "torch.Size([3237, 3, 21]) torch.Size([3237, 4]) torch.Size([809, 3, 21]) torch.Size([809, 4])\n"
     ]
    }
   ],
   "source": [
    "X, y = dp.data_to_points_cloud(train_data)\n",
    "Xval, yval = dp.data_to_points_cloud(test_data)\n",
    "\n",
    "print(X.shape, y.shape, Xval.shape, yval.shape)\n",
    "\n",
    "\n"
   ]
  },
  {
   "cell_type": "code",
   "execution_count": 13,
   "metadata": {},
   "outputs": [],
   "source": [
    "model = get_model(num_classes=4, global_feat=True, feature_transform=False, channel=3)\n",
    "\n",
    "# 定义损失函数和优化器\n",
    "loss = nn.MSELoss()\n",
    "optimizer = torch.optim.Adam(model.parameters(),lr = 0.00004)\n"
   ]
  },
  {
   "cell_type": "code",
   "execution_count": 14,
   "metadata": {},
   "outputs": [
    {
     "name": "stdout",
     "output_type": "stream",
     "text": [
      "Epoch 1/30, train_Loss: 0.012404730129764887, val_Loss: 0.18454615771770477\n",
      "Epoch 2/30, train_Loss: 0.008041644675480498, val_Loss: 0.1198369562625885\n",
      "Epoch 3/30, train_Loss: 0.006207784230984542, val_Loss: 0.08065489679574966\n",
      "Epoch 4/30, train_Loss: 0.005068818769559545, val_Loss: 0.05702415108680725\n",
      "Epoch 5/30, train_Loss: 0.004376450421764485, val_Loss: 0.046651244163513184\n",
      "Epoch 6/30, train_Loss: 0.003926509247265887, val_Loss: 0.037328965961933136\n",
      "Epoch 7/30, train_Loss: 0.0036968308920141426, val_Loss: 0.033043473958969116\n",
      "Epoch 8/30, train_Loss: 0.0034013491102048636, val_Loss: 0.03333039954304695\n",
      "Epoch 9/30, train_Loss: 0.003089267563720452, val_Loss: 0.027341946959495544\n",
      "Epoch 10/30, train_Loss: 0.002909382889815455, val_Loss: 0.0245471503585577\n",
      "Epoch 11/30, train_Loss: 0.0026937545768302056, val_Loss: 0.022624576464295387\n",
      "Epoch 12/30, train_Loss: 0.002563684423801374, val_Loss: 0.020247384905815125\n",
      "Epoch 13/30, train_Loss: 0.0024421987436529955, val_Loss: 0.018633464351296425\n",
      "Epoch 14/30, train_Loss: 0.002286210468578088, val_Loss: 0.019049081951379776\n",
      "Epoch 15/30, train_Loss: 0.00215068801657484, val_Loss: 0.01856270618736744\n",
      "Epoch 16/30, train_Loss: 0.0020761531862554853, val_Loss: 0.01726693846285343\n"
     ]
    }
   ],
   "source": [
    "num_epochs = 20\n",
    "num_samples = X.shape[0]\n",
    "batch_size = 32\n",
    "\n",
    "\n",
    "for epoch in range(num_epochs):\n",
    "    train_loss = 0.0\n",
    "    for i in range(0, num_samples, batch_size):\n",
    "        input = X[i:i+batch_size]\n",
    "        label = y[i:i+batch_size]\n",
    "\n",
    "\n",
    " \n",
    "        # 前向传播\n",
    "        model.train()\n",
    "        output, trans, trans_feat = model(input)\n",
    "\n",
    "        l = loss(output, label)\n",
    "        \n",
    "        # 反向传播和优化\n",
    "        optimizer.zero_grad()\n",
    "        l.backward()\n",
    "        optimizer.step()\n",
    "\n",
    "        train_loss += l.item()\n",
    "\n",
    "    train_loss /= num_samples\n",
    "    with torch.no_grad():\n",
    "        model.eval()\n",
    "        y_pred, _, _ = model(Xval)\n",
    "        val_loss = loss(y_pred, yval).item()\n",
    "\n",
    "    # 打印每个 epoch 的损失\n",
    "    print(f'Epoch {epoch+1}/{num_epochs}, train_Loss: {train_loss}, val_Loss: {val_loss}')\n",
    "    \n",
    "    if val_loss < 0.005:\n",
    "        break\n",
    "    \n",
    "\n",
    "\n",
    "    # 保存模型\n",
    "torch.save(model.state_dict(), 'model.pth')"
   ]
  },
  {
   "cell_type": "code",
   "execution_count": null,
   "metadata": {},
   "outputs": [
    {
     "name": "stdout",
     "output_type": "stream",
     "text": [
      "torch.Size([809, 4])\n",
      "tensor([[ 0.0054, -0.0673, -0.1432,  1.1049],\n",
      "        [ 1.0114, -0.0779, -0.0182,  0.0222],\n",
      "        [ 0.0465, -0.0415,  0.8725,  0.0449],\n",
      "        [-0.0584, -0.0654, -0.1175,  1.1001],\n",
      "        [ 0.0089, -0.1185,  0.0111,  0.9493],\n",
      "        [ 0.9379, -0.0360,  0.0170, -0.0287],\n",
      "        [-0.0369, -0.0714, -0.0166,  1.0312],\n",
      "        [-0.0136, -0.0846, -0.0328,  1.0173],\n",
      "        [ 0.0259,  0.5445,  0.0208, -0.0309],\n",
      "        [-0.0390, -0.0828, -0.0490,  1.0712]])\n",
      "tensor([[0., 0., 0., 1.],\n",
      "        [1., 0., 0., 0.],\n",
      "        [0., 0., 1., 0.],\n",
      "        [0., 0., 0., 1.],\n",
      "        [0., 0., 0., 1.],\n",
      "        [1., 0., 0., 0.],\n",
      "        [0., 0., 0., 1.],\n",
      "        [0., 0., 0., 1.],\n",
      "        [0., 1., 0., 0.],\n",
      "        [0., 0., 0., 1.]])\n"
     ]
    }
   ],
   "source": [
    "with torch.no_grad():\n",
    "    model.eval()\n",
    "    pre_val, _, _ = model(Xval)\n",
    "\n",
    "head = 10\n",
    "\n",
    "print(pre_val.shape)\n",
    "print(pre_val[:head])\n",
    "print(yval[:head])"
   ]
  },
  {
   "cell_type": "code",
   "execution_count": null,
   "metadata": {},
   "outputs": [],
   "source": [
    "x = Xval[0]\n",
    "x = x.reshape(1, x.shape[0], x.shape[1])"
   ]
  }
 ],
 "metadata": {
  "kernelspec": {
   "display_name": "dl",
   "language": "python",
   "name": "python3"
  },
  "language_info": {
   "codemirror_mode": {
    "name": "ipython",
    "version": 3
   },
   "file_extension": ".py",
   "mimetype": "text/x-python",
   "name": "python",
   "nbconvert_exporter": "python",
   "pygments_lexer": "ipython3",
   "version": "3.8.10"
  },
  "orig_nbformat": 4
 },
 "nbformat": 4,
 "nbformat_minor": 2
}
