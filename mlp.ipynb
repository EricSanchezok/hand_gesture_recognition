{
 "cells": [
  {
   "cell_type": "code",
   "execution_count": 1,
   "metadata": {},
   "outputs": [],
   "source": [
    "import torch\n",
    "import torch.nn as nn\n",
    "import pandas as pd\n",
    "\n",
    "import numpy as np\n",
    "\n",
    "import data_process as dp"
   ]
  },
  {
   "cell_type": "code",
   "execution_count": 2,
   "metadata": {},
   "outputs": [],
   "source": [
    "# 读取训练数据\n",
    "train_data = pd.read_csv('train_data.csv')"
   ]
  },
  {
   "cell_type": "code",
   "execution_count": 3,
   "metadata": {},
   "outputs": [],
   "source": [
    "#随机抽样30%的数据作为测试集\n",
    "test_data = train_data.sample(frac=0.3)\n",
    "train_data = train_data.drop(test_data.index)"
   ]
  },
  {
   "cell_type": "code",
   "execution_count": 4,
   "metadata": {},
   "outputs": [
    {
     "name": "stdout",
     "output_type": "stream",
     "text": [
      "torch.Size([3567, 63]) torch.Size([3567, 4]) torch.Size([1529, 63]) torch.Size([1529, 4])\n",
      "tensor([-1.2074, -1.2074, -1.2074,  0.7167,  0.9913, -1.3273,  0.6212,  1.0340,\n",
      "        -1.3599,  0.5287,  1.0866, -1.3659,  0.4685,  1.0836, -1.3593,  0.5567,\n",
      "         0.7721, -1.2982,  0.4370,  0.8141, -1.3411,  0.3693,  0.8669, -1.3657,\n",
      "         0.3178,  0.9021, -1.3779,  0.5375,  0.8004, -1.2474,  0.4525,  0.9764,\n",
      "        -1.2963,  0.5055,  1.0349, -1.3032,  0.5533,  0.9957, -1.2942,  0.5222,\n",
      "         0.8591, -1.2105,  0.4610,  1.0089, -1.2686,  0.5142,  1.0421, -1.2761,\n",
      "         0.5469,  0.9922, -1.2640,  0.5206,  0.9164, -1.1837,  0.4861,  1.0243,\n",
      "        -1.2353,  0.5265,  1.0502, -1.2483,  0.5609,  1.0334, -1.2428]) tensor([0., 0., 1., 0.])\n",
      "tensor([1155., 1153.,  783.,  476.])\n"
     ]
    }
   ],
   "source": [
    "inputs, labels = dp.data_processing(train_data)\n",
    "\n",
    "inputs_val, labels_val = dp.data_processing(test_data)\n",
    "\n",
    "print(inputs.shape, labels.shape, inputs_val.shape, labels_val.shape)\n",
    "\n",
    "print(inputs[0], labels[0])\n",
    "\n",
    "# 查看训练数据的标签分布\n",
    "print(labels.sum(dim=0))"
   ]
  },
  {
   "cell_type": "code",
   "execution_count": 5,
   "metadata": {},
   "outputs": [],
   "source": [
    "\n",
    "class MLP(nn.Module):\n",
    "    def __init__(self, in_features, dropout):\n",
    "        super(MLP, self).__init__()\n",
    "        self.net = nn.Sequential(\n",
    "            nn.Flatten(),\n",
    "            nn.Linear(in_features, 256),\n",
    "            nn.ReLU(),\n",
    "            nn.Dropout(dropout),\n",
    "            nn.Linear(256, 64),\n",
    "            nn.ReLU(),\n",
    "            nn.Dropout(dropout),\n",
    "            nn.Linear(64, 32),\n",
    "            nn.ReLU(),\n",
    "            nn.Dropout(dropout),\n",
    "            nn.Linear(32, 4)\n",
    "        )\n",
    "\n",
    "\n",
    "    def forward(self, x):\n",
    "        return self.net(x)\n"
   ]
  },
  {
   "cell_type": "code",
   "execution_count": 6,
   "metadata": {},
   "outputs": [
    {
     "name": "stdout",
     "output_type": "stream",
     "text": [
      "Flatten output shape:\t torch.Size([1, 63])\n",
      "Linear output shape:\t torch.Size([1, 256])\n",
      "ReLU output shape:\t torch.Size([1, 256])\n",
      "Dropout output shape:\t torch.Size([1, 256])\n",
      "Linear output shape:\t torch.Size([1, 64])\n",
      "ReLU output shape:\t torch.Size([1, 64])\n",
      "Dropout output shape:\t torch.Size([1, 64])\n",
      "Linear output shape:\t torch.Size([1, 32])\n",
      "ReLU output shape:\t torch.Size([1, 32])\n",
      "Dropout output shape:\t torch.Size([1, 32])\n",
      "Linear output shape:\t torch.Size([1, 4])\n"
     ]
    }
   ],
   "source": [
    "net = MLP(63, 0.1)\n",
    "X = torch.rand(size=(1, 63))\n",
    "for layer in net.net:\n",
    "    X = layer(X)\n",
    "    print(layer.__class__.__name__,'output shape:\\t', X.shape)"
   ]
  },
  {
   "cell_type": "code",
   "execution_count": 7,
   "metadata": {},
   "outputs": [],
   "source": [
    "# 创建 MLP 模型实例\n",
    "model = MLP(63, 0.1)\n",
    "\n",
    "# 定义损失函数和优化器\n",
    "loss = nn.MSELoss()\n",
    "optimizer = torch.optim.Adam(model.parameters(),lr = 0.0001)"
   ]
  },
  {
   "cell_type": "code",
   "execution_count": 8,
   "metadata": {},
   "outputs": [
    {
     "name": "stdout",
     "output_type": "stream",
     "text": [
      "Epoch 1/20, train_Loss: 0.16936088325615054, val_Loss: 0.12470340728759766\n",
      "Epoch 2/20, train_Loss: 0.10810642313745572, val_Loss: 0.0738038569688797\n",
      "Epoch 3/20, train_Loss: 0.07612814613030038, val_Loss: 0.050370436161756516\n",
      "Epoch 4/20, train_Loss: 0.05588407867283088, val_Loss: 0.033312827348709106\n",
      "Epoch 5/20, train_Loss: 0.04483807569047247, val_Loss: 0.026108205318450928\n",
      "Epoch 6/20, train_Loss: 0.03779605912999074, val_Loss: 0.023823048919439316\n",
      "Epoch 7/20, train_Loss: 0.032034813963077155, val_Loss: 0.017572956159710884\n",
      "Epoch 8/20, train_Loss: 0.028126888453993235, val_Loss: 0.014735937118530273\n",
      "Epoch 9/20, train_Loss: 0.02541509842953917, val_Loss: 0.013247337192296982\n",
      "Epoch 10/20, train_Loss: 0.02418274971162556, val_Loss: 0.011935444548726082\n",
      "Epoch 11/20, train_Loss: 0.02172529632682792, val_Loss: 0.01166659127920866\n",
      "Epoch 12/20, train_Loss: 0.020358691994811117, val_Loss: 0.009427092038094997\n"
     ]
    }
   ],
   "source": [
    "num_epochs = 20\n",
    "num_samples = inputs.shape[0]\n",
    "\n",
    "\n",
    "for epoch in range(num_epochs):\n",
    "    train_loss = 0.0\n",
    "    for i in range(0, num_samples):\n",
    "        input = inputs[i]\n",
    "        label = labels[i]\n",
    "\n",
    "        input = input.unsqueeze(0)\n",
    "        label = label.unsqueeze(0)\n",
    "\n",
    " \n",
    "        # 前向传播\n",
    "        model.train()\n",
    "        output = model(input)\n",
    "\n",
    "        l = loss(output, label)\n",
    "        \n",
    "        # 反向传播和优化\n",
    "        optimizer.zero_grad()\n",
    "        l.backward()\n",
    "        optimizer.step()\n",
    "\n",
    "        train_loss += l.item()\n",
    "\n",
    "    train_loss /= num_samples\n",
    "\n",
    "    model.eval()\n",
    "    val_loss = loss(model(inputs_val), labels_val).item()\n",
    "\n",
    "    # 打印每个 epoch 的损失\n",
    "    print(f'Epoch {epoch+1}/{num_epochs}, train_Loss: {train_loss}, val_Loss: {val_loss}')\n",
    "    \n",
    "    if val_loss < 0.005:\n",
    "        break\n",
    "    \n",
    "\n",
    "\n",
    "\n",
    "\n",
    "    # 保存模型\n",
    "torch.save(model.state_dict(), 'model.pth')"
   ]
  },
  {
   "cell_type": "code",
   "execution_count": 9,
   "metadata": {},
   "outputs": [
    {
     "name": "stdout",
     "output_type": "stream",
     "text": [
      "torch.Size([1529, 4])\n",
      "tensor([[-7.0702e-03,  2.2360e-02,  9.6853e-01, -2.5976e-03],\n",
      "        [ 9.8179e-02,  8.9146e-01,  1.3833e-02, -1.6402e-02],\n",
      "        [-2.4707e-02, -9.9662e-04, -5.9935e-02,  1.1979e+00],\n",
      "        [ 8.2033e-03, -4.4314e-03,  9.7333e-01,  9.0828e-03],\n",
      "        [-1.1073e-03,  1.0008e+00,  8.7661e-04, -1.5885e-02],\n",
      "        [ 8.9780e-03,  9.5973e-01, -3.6084e-02,  3.0365e-02],\n",
      "        [ 9.4902e-01,  2.0541e-02,  9.5379e-03,  1.7116e-03],\n",
      "        [ 5.8488e-02,  9.5471e-01, -1.1534e-02, -1.9287e-03],\n",
      "        [-4.2591e-02,  1.0494e+00,  8.5162e-03, -2.3226e-03],\n",
      "        [-4.1277e-03,  1.9999e-02,  9.6693e-01, -3.0737e-03]])\n",
      "tensor([[0., 0., 1., 0.],\n",
      "        [0., 1., 0., 0.],\n",
      "        [0., 0., 0., 1.],\n",
      "        [0., 0., 1., 0.],\n",
      "        [0., 1., 0., 0.],\n",
      "        [0., 1., 0., 0.],\n",
      "        [1., 0., 0., 0.],\n",
      "        [0., 1., 0., 0.],\n",
      "        [0., 1., 0., 0.],\n",
      "        [0., 0., 1., 0.]])\n"
     ]
    }
   ],
   "source": [
    "with torch.no_grad():\n",
    "    model.eval()\n",
    "    pre_val = model(inputs_val)\n",
    "\n",
    "head = 10\n",
    "\n",
    "print(pre_val.shape)\n",
    "print(pre_val[:head])\n",
    "print(labels_val[:head])"
   ]
  }
 ],
 "metadata": {
  "kernelspec": {
   "display_name": "dl",
   "language": "python",
   "name": "python3"
  },
  "language_info": {
   "codemirror_mode": {
    "name": "ipython",
    "version": 3
   },
   "file_extension": ".py",
   "mimetype": "text/x-python",
   "name": "python",
   "nbconvert_exporter": "python",
   "pygments_lexer": "ipython3",
   "version": "3.8.10"
  },
  "orig_nbformat": 4
 },
 "nbformat": 4,
 "nbformat_minor": 2
}
