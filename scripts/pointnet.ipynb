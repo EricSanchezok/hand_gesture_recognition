{
 "cells": [
  {
   "cell_type": "code",
   "execution_count": 64,
   "metadata": {},
   "outputs": [],
   "source": [
    "import torch\n",
    "import torch.nn as nn\n",
    "import pandas as pd\n",
    "import torch.nn.functional as F\n",
    "\n",
    "import numpy as np\n",
    "\n",
    "import data_process as dp\n",
    "\n",
    "from pointnet_model import get_model"
   ]
  },
  {
   "cell_type": "code",
   "execution_count": 65,
   "metadata": {},
   "outputs": [
    {
     "name": "stdout",
     "output_type": "stream",
     "text": [
      "1    5382\n",
      "8    4842\n",
      "2    4210\n",
      "3    3996\n",
      "4    3540\n",
      "9    3536\n",
      "5    3420\n",
      "6    3270\n",
      "7    3253\n",
      "0    3225\n",
      "Name: 0, dtype: int64\n"
     ]
    }
   ],
   "source": [
    "# 读取训练数据\n",
    "train_data = pd.read_csv('../dataset/new_data.csv')\n",
    "\n",
    "# 查看最后一列\n",
    "print(train_data.iloc[:, -1].value_counts())"
   ]
  },
  {
   "cell_type": "code",
   "execution_count": 66,
   "metadata": {},
   "outputs": [
    {
     "name": "stdout",
     "output_type": "stream",
     "text": [
      "(30939, 64) (7735, 64)\n"
     ]
    }
   ],
   "source": [
    "#随机抽样30%的数据作为测试集\n",
    "test_data = train_data.sample(frac=0.2)\n",
    "train_data = train_data.drop(test_data.index)\n",
    "\n",
    "print(train_data.shape, test_data.shape)"
   ]
  },
  {
   "cell_type": "code",
   "execution_count": 67,
   "metadata": {},
   "outputs": [
    {
     "name": "stdout",
     "output_type": "stream",
     "text": [
      "torch.Size([30939, 3, 21]) torch.Size([30939, 10]) torch.Size([7735, 3, 21]) torch.Size([7735, 10])\n"
     ]
    }
   ],
   "source": [
    "X, y = dp.data_to_points_cloud(train_data)\n",
    "Xval, yval = dp.data_to_points_cloud(test_data)\n",
    "\n",
    "print(X.shape, y.shape, Xval.shape, yval.shape)\n",
    "\n",
    "ngpu= 1\n",
    "# Decide which device we want to run on\n",
    "device = torch.device(\"cuda:0\" if (torch.cuda.is_available() and ngpu > 0) else \"cpu\")\n",
    "\n",
    "X = X.to(device)\n",
    "y = y.to(device)\n",
    "Xval = Xval.to(device)\n",
    "yval = yval.to(device)\n"
   ]
  },
  {
   "cell_type": "code",
   "execution_count": 68,
   "metadata": {},
   "outputs": [],
   "source": [
    "model = get_model(num_classes=10, global_feat=True, feature_transform=False, channel=3)\n",
    "\n",
    "model.cuda(device=device)\n",
    "\n",
    "# 定义损失函数和优化器\n",
    "loss = nn.MSELoss()\n",
    "optimizer = torch.optim.Adam(model.parameters(),lr = 0.00004)\n"
   ]
  },
  {
   "cell_type": "code",
   "execution_count": 69,
   "metadata": {},
   "outputs": [
    {
     "name": "stdout",
     "output_type": "stream",
     "text": [
      "Epoch 1/15, train_Loss: 0.001559455398365529, val_Loss: 0.016350211575627327\n",
      "Epoch 2/15, train_Loss: 0.0005244472388621451, val_Loss: 0.006980341859161854\n",
      "Epoch 3/15, train_Loss: 0.0002874046826259589, val_Loss: 0.004425222519785166\n",
      "Epoch 4/15, train_Loss: 0.00019122346951713385, val_Loss: 0.0034321697894483805\n",
      "Epoch 5/15, train_Loss: 0.00014101149283791547, val_Loss: 0.002921453444287181\n",
      "Epoch 6/15, train_Loss: 0.00011093991424315285, val_Loss: 0.0026759773027151823\n",
      "Epoch 7/15, train_Loss: 9.180742476376066e-05, val_Loss: 0.0021394421346485615\n",
      "Epoch 8/15, train_Loss: 7.267963175638555e-05, val_Loss: 0.0018935413099825382\n",
      "Epoch 9/15, train_Loss: 6.73047179232176e-05, val_Loss: 0.0020153019577264786\n",
      "Epoch 10/15, train_Loss: 5.669809154291311e-05, val_Loss: 0.0018949421355500817\n",
      "Epoch 11/15, train_Loss: 4.363173060569787e-05, val_Loss: 0.0016323844902217388\n",
      "Epoch 12/15, train_Loss: 4.5574795905201765e-05, val_Loss: 0.0020605160389095545\n",
      "Epoch 13/15, train_Loss: 4.294910059504344e-05, val_Loss: 0.0019969274289906025\n",
      "Epoch 14/15, train_Loss: 4.291536573319596e-05, val_Loss: 0.0017318029422312975\n",
      "Epoch 15/15, train_Loss: 3.239861441170255e-05, val_Loss: 0.001582408556714654\n"
     ]
    }
   ],
   "source": [
    "import visualization as vs\n",
    "\n",
    "num_epochs = 15\n",
    "num_samples = X.shape[0]\n",
    "batch_size = 32\n",
    "\n",
    "\n",
    "\n",
    "for epoch in range(num_epochs):\n",
    "    train_loss = 0.0\n",
    "    for i in range(0, num_samples, batch_size):\n",
    "        input = X[i:i+batch_size]\n",
    "        label = y[i:i+batch_size]\n",
    " \n",
    "        # 前向传播\n",
    "        model.train()\n",
    "        output, trans, trans_feat = model(input)\n",
    "\n",
    "        l = loss(output, label)\n",
    "        \n",
    "        # 反向传播和优化\n",
    "        optimizer.zero_grad()\n",
    "        l.backward()\n",
    "        optimizer.step()\n",
    "\n",
    "        train_loss += l.item()\n",
    "\n",
    "    train_loss /= num_samples\n",
    "    with torch.no_grad():\n",
    "        model.eval()\n",
    "        y_pred, _, _ = model(Xval)\n",
    "        val_loss = loss(y_pred, yval).item()\n",
    "\n",
    "\n",
    "    # 打印每个 epoch 的损失\n",
    "    print(f'Epoch {epoch+1}/{num_epochs}, train_Loss: {train_loss}, val_Loss: {val_loss}')\n",
    "    \n",
    "    if val_loss < 0.0001:\n",
    "        break\n",
    "    \n",
    "\n",
    "\n",
    "    # 保存模型\n",
    "torch.save(model.state_dict(), '../model/model.pth')"
   ]
  },
  {
   "cell_type": "code",
   "execution_count": 70,
   "metadata": {},
   "outputs": [
    {
     "name": "stdout",
     "output_type": "stream",
     "text": [
      "torch.Size([7735, 10])\n",
      "tensor([[1.6068e-04, 1.1693e-04, 2.4951e-04, 4.5942e-05, 3.5200e-04, 5.0592e-04,\n",
      "         4.9363e-04, 9.9744e-01, 3.9095e-04, 2.4023e-04],\n",
      "        [2.1474e-04, 1.8425e-04, 2.4904e-04, 4.7587e-04, 1.0751e-03, 9.9551e-01,\n",
      "         7.7911e-04, 5.6548e-04, 8.1226e-04, 1.3761e-04],\n",
      "        [1.1942e-04, 9.9778e-01, 3.1622e-04, 9.1208e-05, 6.5179e-05, 4.7252e-05,\n",
      "         1.7632e-04, 2.6944e-04, 5.4860e-04, 5.8389e-04],\n",
      "        [1.4974e-04, 1.0408e-04, 2.0337e-04, 1.6371e-04, 7.3019e-04, 9.9525e-01,\n",
      "         1.6189e-03, 9.3804e-04, 7.8248e-04, 5.8457e-05],\n",
      "        [6.4716e-04, 9.9208e-01, 1.0478e-03, 3.7852e-04, 4.0733e-04, 2.0984e-04,\n",
      "         1.3566e-03, 7.6592e-04, 1.7157e-03, 1.3864e-03],\n",
      "        [9.5761e-05, 3.4759e-04, 2.2387e-04, 7.0074e-05, 1.0803e-04, 1.5795e-04,\n",
      "         1.4418e-04, 2.8645e-04, 9.9839e-01, 1.7222e-04],\n",
      "        [5.2977e-05, 9.6094e-04, 9.9583e-01, 8.3404e-04, 3.7202e-04, 3.0782e-04,\n",
      "         1.7379e-04, 8.8922e-04, 2.7889e-04, 2.9557e-04],\n",
      "        [2.1447e-04, 2.4066e-04, 3.5494e-04, 4.5325e-04, 1.3440e-03, 9.9397e-01,\n",
      "         2.1575e-03, 6.0876e-04, 5.4090e-04, 1.2030e-04],\n",
      "        [2.0632e-02, 6.5904e-02, 5.5296e-03, 1.4784e-02, 4.8590e-01, 3.7183e-03,\n",
      "         3.8601e-03, 2.5603e-02, 5.0926e-03, 3.6897e-01],\n",
      "        [6.1177e-05, 6.2615e-04, 9.9675e-01, 1.2159e-03, 2.3940e-04, 1.8390e-04,\n",
      "         1.8261e-04, 3.7760e-04, 1.4276e-04, 2.2252e-04]], device='cuda:0')\n",
      "tensor([[0., 0., 0., 0., 0., 0., 0., 1., 0., 0.],\n",
      "        [0., 0., 0., 0., 0., 1., 0., 0., 0., 0.],\n",
      "        [0., 1., 0., 0., 0., 0., 0., 0., 0., 0.],\n",
      "        [0., 0., 0., 0., 0., 1., 0., 0., 0., 0.],\n",
      "        [0., 1., 0., 0., 0., 0., 0., 0., 0., 0.],\n",
      "        [0., 0., 0., 0., 0., 0., 0., 0., 1., 0.],\n",
      "        [0., 0., 1., 0., 0., 0., 0., 0., 0., 0.],\n",
      "        [0., 0., 0., 0., 0., 1., 0., 0., 0., 0.],\n",
      "        [0., 0., 0., 0., 0., 0., 0., 0., 0., 1.],\n",
      "        [0., 0., 1., 0., 0., 0., 0., 0., 0., 0.]], device='cuda:0')\n"
     ]
    }
   ],
   "source": [
    "with torch.no_grad():\n",
    "    model.eval()\n",
    "    pre_val, _, _ = model(Xval)\n",
    "\n",
    "head = 10\n",
    "\n",
    "\n",
    "print(pre_val.shape)\n",
    "print(pre_val[:head])\n",
    "print(yval[:head])"
   ]
  }
 ],
 "metadata": {
  "kernelspec": {
   "display_name": "dl",
   "language": "python",
   "name": "python3"
  },
  "language_info": {
   "codemirror_mode": {
    "name": "ipython",
    "version": 3
   },
   "file_extension": ".py",
   "mimetype": "text/x-python",
   "name": "python",
   "nbconvert_exporter": "python",
   "pygments_lexer": "ipython3",
   "version": "3.8.10"
  },
  "orig_nbformat": 4
 },
 "nbformat": 4,
 "nbformat_minor": 2
}
